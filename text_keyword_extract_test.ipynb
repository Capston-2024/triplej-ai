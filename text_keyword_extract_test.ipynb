{
 "cells": [
  {
   "cell_type": "code",
   "execution_count": 1,
   "id": "9221d3a7",
   "metadata": {},
   "outputs": [],
   "source": [
    "from pickin_service import extract_keywords_from_text\n",
    "from schema.text_keyword_extraction_request import text_keyword_extraction_request"
   ]
  },
  {
   "cell_type": "code",
   "execution_count": 2,
   "id": "bfc43446",
   "metadata": {},
   "outputs": [],
   "source": [
    "text = \"[이커머스 업계의 오프라인 유통 시장 진출 가속화]최근 이커머스의 업계는 오프라인 진출시도와 더불어 전자유통 시장 진출이 가속화 되고 있습니다. 특히, 글로벌 이커머스의 업계은 현재 기존 통합 플랫폼이 아닌, 제품 카테고리별 세분화된 플랫폼이 빠르게 성장하고 있습니다.  예로, OO 플랫폼은 고객경험을 제공할 수 있는 오프라인 스토어를 상하이 및 베이징 등 글로벌 시장의 핵심 도시에 오픈하였습니다. 이러한 업체의 동향은 오프라인 매장을 기반으로 소비자에게 구매경험을 제공할 수 있는 삼성전자의 미래 경쟁자로 자리잡을 수 있기에 중요한 사회이슈라고 생각합니다.[오프라인 스토어, 차별화된 고객 경험을 제공하는 매개체]이커머스의 업계 동향을 대비하기 위해선 오프라인 매장의 강점을 강화해야 된다고 생각합니다. 실질적으로 에어콘, 냉장고와 같은 소비자 체감 단가가 높은 백색가전의 경우에는 직접 매장에 방문하여 사용 후에 구매하는 경우가 많습니다. 이러한 소비자 구매 트랜드를 활용하여, 오프라인 매장에서는 고객이 일상 속에서 제품을 사용해 볼 수 있는 유사한 환경을 조성하고 삼성전자의 프리미엄 제품라인 및 신가전 제품의 사용경험을 증대시켜야된다고 생각합니다.[옴니 스토어 역량 강화, 고객의 편의시설로의 변화]기존의 옴니스토어는 온라인과 오프라인의 매장을 연결하는 공간이였습니다. 하지만,기존의 소비자들이 사용해오던 제품이 아닌 신가전과 새로운 기술이 결합된 백색가전들의 증가로 소비자들이 경험할 수 있는 공간의 중요성이 대두되고 있습니다. 이를 위해서, 단순한 판매 목적의 유통채널의 매장이 아닌 고객들이 쉴 수 있고 문화 생활을 즐길 수 있는 만남의 장소로서의 소비자 경험공간으로의 변화가 필요할 것이라고 생각합니다.현재 이커머스의 업계의 전자유통 시장 진출은 가격 경쟁력을 무기로 삼성전자의 오프라인 판매채널에 도전하고 있습니다. 저는 이럴 때 일수록, 오프라인 채널의 강점인 소비자 경험 역량을 최대한 발휘해야 된다고 생각합니다.‍‍\""
   ]
  },
  {
   "cell_type": "code",
   "execution_count": 3,
   "id": "14d02d8f",
   "metadata": {},
   "outputs": [
    {
     "name": "stdout",
     "output_type": "stream",
     "text": [
      "cleaned:  ['플랫폼', '시장', '글로벌', '베이징', '이커머스', '상하이', '오프라인', '라인', '매장', '가속']\n"
     ]
    }
   ],
   "source": [
    "sample = text_keyword_extraction_request(text=text, size=10)\n",
    "extract_keywords_from_text(sample)"
   ]
  }
 ],
 "metadata": {
  "kernelspec": {
   "display_name": "base",
   "language": "python",
   "name": "python3"
  },
  "language_info": {
   "codemirror_mode": {
    "name": "ipython",
    "version": 3
   },
   "file_extension": ".py",
   "mimetype": "text/x-python",
   "name": "python",
   "nbconvert_exporter": "python",
   "pygments_lexer": "ipython3",
   "version": "3.12.4"
  }
 },
 "nbformat": 4,
 "nbformat_minor": 5
}
