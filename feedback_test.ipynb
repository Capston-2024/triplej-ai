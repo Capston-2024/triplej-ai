{
 "cells": [
  {
   "cell_type": "code",
   "execution_count": 1,
   "id": "fcf9f33b",
   "metadata": {},
   "outputs": [
    {
     "name": "stderr",
     "output_type": "stream",
     "text": [
      "The tokenizer class you load from this checkpoint is not the same type as the class this function is called from. It may result in unexpected tokenization. \n",
      "The tokenizer class you load from this checkpoint is 'KoBertTokenizer'. \n",
      "The class this function is called from is 'BertTokenizer'.\n"
     ]
    }
   ],
   "source": [
    "from pickin_service import feedback\n",
    "from schema.feedback_request import feedback_request"
   ]
  },
  {
   "cell_type": "code",
   "execution_count": 2,
   "id": "f07c87a7",
   "metadata": {},
   "outputs": [],
   "source": [
    "missing_keywords = []\n",
    "similarity = 0.72385824\n",
    "job = '삼성전자 DS부문 반도체 R&D 분야 외국인 경력사원 채용 모집대상:'\n",
    "letter = \"[고객 중심의 글로벌 시장 전문가로 성장하겠습니다]삼성전자 전 세계 고객의 삶을 연구하며, 고객 친화형 기술과 디자인을 개발 통해 지속 가능한 고객 중심 경쟁력을 갖추고 있습니다.저는 다양한 문화와 사람들에 대한 깊은 관심을 바탕으로, 각국의 문화적 차이를 존중하고 시너지를 발휘할 수 있는 글로벌 마인드를 기르기 위해 한국학과 국제학을 전공했습니다. 이를 통해 문화적 차이를 이해하고 조화를 이루는 방법을 배웠으며, 이러한 역량을 바탕으로 글로벌 시장에서 '고객 중심' 전략 강화에 기여하고자 합니다.특히 현지 시장에 대한 깊은 이해를 바탕으로 고객의 요구에 부합하는 맞춤형 전략을 수립하여, 삼성전자의 글로벌 확장에 기여하고자 합니다.\""
   ]
  },
  {
   "cell_type": "code",
   "execution_count": 3,
   "id": "58e3af48",
   "metadata": {},
   "outputs": [
    {
     "name": "stdout",
     "output_type": "stream",
     "text": [
      "response:  물론입니다! 지원자의 자기소개서와 채용공고, 부족한 키워드 및 의미적 유사도를 고려하여 아래와 같이 자기소개서를 첨삭해드리겠습니다.\n",
      "\n",
      "---\n",
      "\n",
      "**[고객 중심의 글로벌 시장 전문가이자 반도체 R&D 분야의 혁신 인재로 성장하겠습니다]**\n",
      "\n",
      "삼성전자는 전 세계 고객의 삶을 연구하며, 고객 친화형 기술과 디자인을 개발하여 지속 가능한 고객 중심 경쟁력을 갖추고 있습니다. 저는 다양한 문화와 사람들에 대한 깊은 관심을 바탕으로, 각국의 문화적 차이를 존중하고 시너지를 발휘할 수 있는 글로벌 마인드를 기르기 위해 한국학과 국제학을 전공했습니다. 이를 통해 문화적 차이를 이해하고 조화를 이루는 방법을 배웠으며, 이러한 역량을 바탕으로 글로벌 시장에서 '고객 중심' 전략 강화에 기여하고자 합니다.\n",
      "\n",
      "특히, 현지 시장에 대한 깊은 이해를 바탕으로 고객의 요구에 부합하는 맞춤형 전략을 수립하여, 삼성전자의 글로벌 확장에 기여하고자 합니다. 또한, 최근 반도체 산업이 세계 경제와 첨단 기술을 이끄는 핵심 분야임을 인식하고, 반도체 R&D 관련 최신 동향과 기술을 꾸준히 학습해왔습니다. 전공 과정에서 데이터 분석과 문제 해결 능력을 키웠으며, 연구 프로젝트를 통해 논리적 사고와 팀워크 역량을 쌓았습니다.\n",
      "\n",
      "삼성전자 DS부문 반도체 R&D 분야에서, 다양한 국가의 고객 요구를 반영한 혁신적인 반도체 솔루션을 기획하고 개발하는 데 기여하고 싶습니다. 글로벌 커뮤니케이션 능력과 기술적 이해를 바탕으로, 연구개발(R&D) 현장에서도 적극적으로 협력하며 문제를 해결할 수 있다고 자신합니다. 앞으로도 지속적인 자기계발과 기술 학습을 통해, 반도체 분야의 글로벌 경쟁력을 강화하는 핵심 인재가 되겠습니다.\n",
      "\n",
      "---\n",
      "\n",
      "**[첨삭 및 추가된 키워드]**\n",
      "- 반도체, R&D, 연구개발, 데이터 분석, 문제 해결, 팀워크, 논리적 사고, 기술 학습, 글로벌 커뮤니케이션, 혁신적인 솔루션 등 반도체\n"
     ]
    }
   ],
   "source": [
    "sample = feedback_request(missing_keywords=missing_keywords, similarity=similarity, job=job, letter=letter)\n",
    "feedback(sample)"
   ]
  }
 ],
 "metadata": {
  "kernelspec": {
   "display_name": "base",
   "language": "python",
   "name": "python3"
  },
  "language_info": {
   "codemirror_mode": {
    "name": "ipython",
    "version": 3
   },
   "file_extension": ".py",
   "mimetype": "text/x-python",
   "name": "python",
   "nbconvert_exporter": "python",
   "pygments_lexer": "ipython3",
   "version": "3.12.4"
  }
 },
 "nbformat": 4,
 "nbformat_minor": 5
}
