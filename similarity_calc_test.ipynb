{
 "cells": [
  {
   "cell_type": "code",
   "execution_count": 1,
   "id": "0136b5a7",
   "metadata": {},
   "outputs": [
    {
     "name": "stderr",
     "output_type": "stream",
     "text": [
      "The tokenizer class you load from this checkpoint is not the same type as the class this function is called from. It may result in unexpected tokenization. \n",
      "The tokenizer class you load from this checkpoint is 'KoBertTokenizer'. \n",
      "The class this function is called from is 'BertTokenizer'.\n"
     ]
    }
   ],
   "source": [
    "from pickin_service import calc_similarity\n",
    "from schema.text_similarity_request import text_similarity_request"
   ]
  },
  {
   "cell_type": "code",
   "execution_count": 2,
   "id": "bd650d19",
   "metadata": {},
   "outputs": [],
   "source": [
    "job = '삼성전자 DS부문 반도체 R&D 분야 외국인 경력사원 채용 모집대상:'\n",
    "letter = \"[고객 중심의 글로벌 시장 전문가로 성장하겠습니다]삼성전자 전 세계 고객의 삶을 연구하며, 고객 친화형 기술과 디자인을 개발 통해 지속 가능한 고객 중심 경쟁력을 갖추고 있습니다.저는 다양한 문화와 사람들에 대한 깊은 관심을 바탕으로, 각국의 문화적 차이를 존중하고 시너지를 발휘할 수 있는 글로벌 마인드를 기르기 위해 한국학과 국제학을 전공했습니다. 이를 통해 문화적 차이를 이해하고 조화를 이루는 방법을 배웠으며, 이러한 역량을 바탕으로 글로벌 시장에서 '고객 중심' 전략 강화에 기여하고자 합니다.특히 현지 시장에 대한 깊은 이해를 바탕으로 고객의 요구에 부합하는 맞춤형 전략을 수립하여, 삼성전자의 글로벌 확장에 기여하고자 합니다.\""
   ]
  },
  {
   "cell_type": "code",
   "execution_count": 3,
   "id": "495fce58",
   "metadata": {},
   "outputs": [
    {
     "data": {
      "text/plain": [
       "0.72385824"
      ]
     },
     "execution_count": 3,
     "metadata": {},
     "output_type": "execute_result"
    }
   ],
   "source": [
    "sample = text_similarity_request(job=job, letter=letter)\n",
    "calc_similarity(sample)"
   ]
  }
 ],
 "metadata": {
  "kernelspec": {
   "display_name": "base",
   "language": "python",
   "name": "python3"
  },
  "language_info": {
   "codemirror_mode": {
    "name": "ipython",
    "version": 3
   },
   "file_extension": ".py",
   "mimetype": "text/x-python",
   "name": "python",
   "nbconvert_exporter": "python",
   "pygments_lexer": "ipython3",
   "version": "3.12.4"
  }
 },
 "nbformat": 4,
 "nbformat_minor": 5
}
